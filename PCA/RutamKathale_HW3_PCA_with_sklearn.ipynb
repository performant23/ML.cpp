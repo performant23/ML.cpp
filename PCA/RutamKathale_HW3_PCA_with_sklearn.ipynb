{
 "cells": [
  {
   "cell_type": "code",
   "execution_count": 1,
   "id": "a013d464",
   "metadata": {},
   "outputs": [],
   "source": [
    "import numpy as np\n",
    "from sklearn.decomposition import PCA\n",
    "import time"
   ]
  },
  {
   "cell_type": "code",
   "execution_count": 3,
   "id": "849b197f",
   "metadata": {},
   "outputs": [],
   "source": [
    "def generate_dataset(m, n):\n",
    "    return np.random.rand(m, n)\n",
    "\n",
    "def pca(X, n_components):\n",
    "    start_time = time.time() \n",
    "    # Here, we start the clock from 'time' library and end it below so that it runs from start of PCA implementation to end\n",
    "    pca = PCA(n_components=n_components)\n",
    "    pca.fit(X)\n",
    "    end_time = time.time()\n",
    "    runtime = end_time - start_time\n",
    "    return runtime\n"
   ]
  },
  {
   "cell_type": "code",
   "execution_count": null,
   "id": "8e7329c1",
   "metadata": {},
   "outputs": [
    {
     "name": "stdout",
     "output_type": "stream",
     "text": [
      "Dataset Dimensions: (100, 100), PCA components: 10, Runtime: 0.08 seconds\n",
      "Dataset Dimensions: (1000, 1000), PCA components: 100, Runtime: 0.08 seconds\n",
      "Dataset Dimensions: (10000, 10000), PCA components: 1000, Runtime: 38.91 seconds\n"
     ]
    }
   ],
   "source": [
    "datasets = [(100, 100), (1000, 1000), (10000, 10000), (10000, 50000), (50000, 50000)]\n",
    "\n",
    "for m, n in datasets:\n",
    "    X = generate_dataset(m, n)\n",
    "    pca_components = int(0.1 * n)\n",
    "    runtime = pca(X, pca_components)\n",
    "    print(f\"Dataset Dimensions: ({m}, {n}), PCA components: {pca_components}, Runtime: {runtime:.2f} seconds\")\n"
   ]
  }
 ],
 "metadata": {
  "kernelspec": {
   "display_name": "Python 3 (ipykernel)",
   "language": "python",
   "name": "python3"
  },
  "language_info": {
   "codemirror_mode": {
    "name": "ipython",
    "version": 3
   },
   "file_extension": ".py",
   "mimetype": "text/x-python",
   "name": "python",
   "nbconvert_exporter": "python",
   "pygments_lexer": "ipython3",
   "version": "3.10.9"
  }
 },
 "nbformat": 4,
 "nbformat_minor": 5
}
