{
  "cells": [
    {
      "cell_type": "code",
      "execution_count": 4,
      "id": "aa2f1335",
      "metadata": {
        "id": "aa2f1335"
      },
      "outputs": [],
      "source": [
        "import numpy as np\n",
        "import time"
      ]
    },
    {
      "cell_type": "code",
      "execution_count": 5,
      "id": "HwvBIKxbsShp",
      "metadata": {
        "id": "HwvBIKxbsShp"
      },
      "outputs": [],
      "source": [
        "def nmf(V, rank, max_iter=100, tol=1e-6):\n",
        "    m, n = V.shape\n",
        "    W = np.abs(np.random.rand(m, rank))\n",
        "    H = np.abs(np.random.rand(rank, n))\n",
        "\n",
        "    for _ in range(max_iter):\n",
        "        W_update = W * ((V @ H.T) / (W @ H @ H.T))\n",
        "        W = np.maximum(W_update, 1e-16)\n",
        "        H_update = H * ((W.T @ V) / (W.T @ W @ H))\n",
        "        H = np.maximum(H_update, 1e-16)\n",
        "\n",
        "        error = np.linalg.norm(V - W @ H)\n",
        "        if error < tol:\n",
        "            break\n",
        "\n",
        "    return W, H\n"
      ]
    },
    {
      "cell_type": "code",
      "execution_count": 6,
      "id": "SbB5ltW6sUNg",
      "metadata": {
        "id": "SbB5ltW6sUNg",
        "colab": {
          "base_uri": "https://localhost:8080/"
        },
        "outputId": "4e0dd3e5-7dd4-44c9-cff4-bfe6e456fbfe"
      },
      "outputs": [
        {
          "output_type": "stream",
          "name": "stdout",
          "text": [
            "Elapsed time for dataset of dimensions (2x2): 0.004222393 seconds\n",
            "Elapsed time for dataset of dimensions (5x5): 0.003346682 seconds\n",
            "Elapsed time for dataset of dimensions (10x10): 0.002251625 seconds\n",
            "Elapsed time for dataset of dimensions (50x50): 0.003957748 seconds\n",
            "Elapsed time for dataset of dimensions (100x100): 0.007250547 seconds\n",
            "Elapsed time for dataset of dimensions (500x500): 0.192041159 seconds\n",
            "Elapsed time for dataset of dimensions (1000x1000): 0.891921520 seconds\n"
          ]
        }
      ],
      "source": [
        "dimensions = [(2, 2), (5, 5), (10, 10), (50, 50), (100, 100), (500, 500), (1000, 1000)]\n",
        "rank = 2\n",
        "\n",
        "for rows, cols in dimensions:\n",
        "    V = np.abs(np.random.rand(rows, cols))\n",
        "    start_time = time.time()\n",
        "    W, H = nmf(V, rank)\n",
        "    end_time = time.time()\n",
        "    elapsed_time = end_time - start_time\n",
        "    print(f\"Elapsed time for dataset of dimensions ({rows}x{cols}): {elapsed_time:.9f} seconds\")"
      ]
    }
  ],
  "metadata": {
    "colab": {
      "provenance": []
    },
    "kernelspec": {
      "display_name": "Python 3 (ipykernel)",
      "language": "python",
      "name": "python3"
    },
    "language_info": {
      "codemirror_mode": {
        "name": "ipython",
        "version": 3
      },
      "file_extension": ".py",
      "mimetype": "text/x-python",
      "name": "python",
      "nbconvert_exporter": "python",
      "pygments_lexer": "ipython3",
      "version": "3.10.9"
    }
  },
  "nbformat": 4,
  "nbformat_minor": 5
}